{
 "cells": [
  {
   "cell_type": "code",
   "execution_count": 1,
   "metadata": {},
   "outputs": [
    {
     "data": {
      "text/html": [
       "<style>.container { width:100% !important; }</style>"
      ],
      "text/plain": [
       "<IPython.core.display.HTML object>"
      ]
     },
     "metadata": {},
     "output_type": "display_data"
    }
   ],
   "source": [
    "%load_ext autoreload\n",
    "%autoreload 2\n",
    "from ayniy.utils import init_notebook\n",
    "init_notebook()"
   ]
  },
  {
   "cell_type": "code",
   "execution_count": 2,
   "metadata": {},
   "outputs": [],
   "source": [
    "import pandas as pd\n",
    "import numpy as np\n",
    "import lightgbm as lgb"
   ]
  },
  {
   "cell_type": "code",
   "execution_count": 3,
   "metadata": {},
   "outputs": [],
   "source": [
    "def extract_feat(sid):\n",
    "    df = pd.read_csv(f'../dataset/train/{sid}.csv')\n",
    "\n",
    "    df['diff_usr_ball'] = ((df['usr_x'] - df['bal_x'])**2 + (df['usr_y'] - df['bal_y'])**2)\n",
    "    df['diff_usr_uDF'] = ((df['usr_x'] - df['uDF_x'])**2 + (df['usr_y'] - df['uDF_y'])**2)\n",
    "    df['diff_usr_scr'] = ((df['usr_x'] - df['scr_x'])**2 + (df['usr_y'] - df['scr_y'])**2)\n",
    "    df['diff_scr_uDF'] = ((df['scr_x'] - df['uDF_x'])**2 + (df['scr_y'] - df['uDF_y'])**2)\n",
    "    df['diff_scr_ball'] = ((df['scr_x'] - df['bal_x'])**2 + (df['scr_y'] - df['bal_y'])**2)\n",
    "    df['diff_uDF_ball'] = ((df['uDF_x'] - df['bal_x'])**2 + (df['uDF_y'] - df['bal_y'])**2)\n",
    "\n",
    "    return (df['diff_usr_ball'].min(), df['diff_usr_uDF'].min(), df['diff_usr_scr'].min(), df['diff_scr_uDF'].min(), df['diff_scr_ball'].min(), df['diff_uDF_ball'].min(), len(df))"
   ]
  },
  {
   "cell_type": "code",
   "execution_count": 4,
   "metadata": {},
   "outputs": [],
   "source": [
    "X_train = []\n",
    "\n",
    "for i in range(1528):\n",
    "    X_train.append(extract_feat(str(i).zfill(4)))"
   ]
  },
  {
   "cell_type": "code",
   "execution_count": 5,
   "metadata": {},
   "outputs": [],
   "source": [
    "X_test = []\n",
    "\n",
    "for i in range(382):\n",
    "    X_test.append(extract_feat(str(i).zfill(4)))"
   ]
  },
  {
   "cell_type": "code",
   "execution_count": 6,
   "metadata": {},
   "outputs": [],
   "source": [
    "X_train = pd.DataFrame(X_train)\n",
    "X_test = pd.DataFrame(X_test)\n",
    "cols = ['min_diff_usr_ball', 'min_diff_usr_uDF', 'min_diff_usr_scr', 'min_diff_scr_uDF', 'min_diff_scr_ball', 'min_diff_uDF_ball', 'num_df']\n",
    "X_train.columns = cols\n",
    "X_test.columns = cols"
   ]
  },
  {
   "cell_type": "code",
   "execution_count": 7,
   "metadata": {},
   "outputs": [
    {
     "data": {
      "text/html": [
       "<div>\n",
       "<style scoped>\n",
       "    .dataframe tbody tr th:only-of-type {\n",
       "        vertical-align: middle;\n",
       "    }\n",
       "\n",
       "    .dataframe tbody tr th {\n",
       "        vertical-align: top;\n",
       "    }\n",
       "\n",
       "    .dataframe thead th {\n",
       "        text-align: right;\n",
       "    }\n",
       "</style>\n",
       "<table border=\"1\" class=\"dataframe\">\n",
       "  <thead>\n",
       "    <tr style=\"text-align: right;\">\n",
       "      <th></th>\n",
       "      <th>min_diff_usr_ball</th>\n",
       "      <th>min_diff_usr_uDF</th>\n",
       "      <th>min_diff_usr_scr</th>\n",
       "      <th>min_diff_scr_uDF</th>\n",
       "      <th>min_diff_scr_ball</th>\n",
       "      <th>min_diff_uDF_ball</th>\n",
       "      <th>num_df</th>\n",
       "    </tr>\n",
       "  </thead>\n",
       "  <tbody>\n",
       "    <tr>\n",
       "      <th>0</th>\n",
       "      <td>0.0073</td>\n",
       "      <td>4.0034</td>\n",
       "      <td>3.4885</td>\n",
       "      <td>0.0000</td>\n",
       "      <td>1.9105</td>\n",
       "      <td>3.3266</td>\n",
       "      <td>136</td>\n",
       "    </tr>\n",
       "    <tr>\n",
       "      <th>1</th>\n",
       "      <td>3.3169</td>\n",
       "      <td>0.2953</td>\n",
       "      <td>1.8464</td>\n",
       "      <td>0.4196</td>\n",
       "      <td>0.0586</td>\n",
       "      <td>1.4689</td>\n",
       "      <td>116</td>\n",
       "    </tr>\n",
       "    <tr>\n",
       "      <th>2</th>\n",
       "      <td>6.8328</td>\n",
       "      <td>0.2393</td>\n",
       "      <td>6.6420</td>\n",
       "      <td>0.1165</td>\n",
       "      <td>42.7444</td>\n",
       "      <td>0.9640</td>\n",
       "      <td>92</td>\n",
       "    </tr>\n",
       "    <tr>\n",
       "      <th>3</th>\n",
       "      <td>0.0004</td>\n",
       "      <td>0.1450</td>\n",
       "      <td>0.1949</td>\n",
       "      <td>0.6161</td>\n",
       "      <td>0.5153</td>\n",
       "      <td>0.1972</td>\n",
       "      <td>98</td>\n",
       "    </tr>\n",
       "    <tr>\n",
       "      <th>4</th>\n",
       "      <td>4.5473</td>\n",
       "      <td>0.8989</td>\n",
       "      <td>0.8105</td>\n",
       "      <td>0.0073</td>\n",
       "      <td>14.9850</td>\n",
       "      <td>6.7097</td>\n",
       "      <td>106</td>\n",
       "    </tr>\n",
       "  </tbody>\n",
       "</table>\n",
       "</div>"
      ],
      "text/plain": [
       "   min_diff_usr_ball  min_diff_usr_uDF  min_diff_usr_scr  min_diff_scr_uDF  \\\n",
       "0             0.0073            4.0034            3.4885            0.0000   \n",
       "1             3.3169            0.2953            1.8464            0.4196   \n",
       "2             6.8328            0.2393            6.6420            0.1165   \n",
       "3             0.0004            0.1450            0.1949            0.6161   \n",
       "4             4.5473            0.8989            0.8105            0.0073   \n",
       "\n",
       "   min_diff_scr_ball  min_diff_uDF_ball  num_df  \n",
       "0             1.9105             3.3266     136  \n",
       "1             0.0586             1.4689     116  \n",
       "2            42.7444             0.9640      92  \n",
       "3             0.5153             0.1972      98  \n",
       "4            14.9850             6.7097     106  "
      ]
     },
     "execution_count": 7,
     "metadata": {},
     "output_type": "execute_result"
    }
   ],
   "source": [
    "X_train.head()"
   ]
  },
  {
   "cell_type": "code",
   "execution_count": 8,
   "metadata": {},
   "outputs": [],
   "source": [
    "y_train = pd.Series([1 if i < 400 else 0 for i in range(1528)])"
   ]
  },
  {
   "cell_type": "code",
   "execution_count": 9,
   "metadata": {},
   "outputs": [
    {
     "name": "stdout",
     "output_type": "stream",
     "text": [
      "Training until validation scores don't improve for 10 rounds.\n",
      "[10]\ttraining's auc: 0.864897\tvalid_1's auc: 0.77182\n",
      "[20]\ttraining's auc: 0.884801\tvalid_1's auc: 0.797815\n",
      "[30]\ttraining's auc: 0.901117\tvalid_1's auc: 0.80448\n",
      "[40]\ttraining's auc: 0.909235\tvalid_1's auc: 0.810896\n",
      "[50]\ttraining's auc: 0.917728\tvalid_1's auc: 0.820465\n",
      "[60]\ttraining's auc: 0.925\tvalid_1's auc: 0.821294\n",
      "[70]\ttraining's auc: 0.93036\tvalid_1's auc: 0.823396\n",
      "Early stopping, best iteration is:\n",
      "[69]\ttraining's auc: 0.930062\tvalid_1's auc: 0.823838\n",
      "Training until validation scores don't improve for 10 rounds.\n",
      "[10]\ttraining's auc: 0.853757\tvalid_1's auc: 0.825194\n",
      "[20]\ttraining's auc: 0.878639\tvalid_1's auc: 0.843971\n",
      "[30]\ttraining's auc: 0.892721\tvalid_1's auc: 0.851549\n",
      "[40]\ttraining's auc: 0.902274\tvalid_1's auc: 0.857135\n",
      "[50]\ttraining's auc: 0.912978\tvalid_1's auc: 0.862334\n",
      "[60]\ttraining's auc: 0.92006\tvalid_1's auc: 0.86792\n",
      "[70]\ttraining's auc: 0.926892\tvalid_1's auc: 0.868805\n",
      "Early stopping, best iteration is:\n",
      "[62]\ttraining's auc: 0.920143\tvalid_1's auc: 0.869192\n",
      "Training until validation scores don't improve for 10 rounds.\n",
      "[10]\ttraining's auc: 0.854959\tvalid_1's auc: 0.840293\n",
      "[20]\ttraining's auc: 0.88113\tvalid_1's auc: 0.856831\n",
      "[30]\ttraining's auc: 0.891767\tvalid_1's auc: 0.856969\n",
      "Early stopping, best iteration is:\n",
      "[29]\ttraining's auc: 0.889927\tvalid_1's auc: 0.860343\n",
      "Training until validation scores don't improve for 10 rounds.\n",
      "[10]\ttraining's auc: 0.864447\tvalid_1's auc: 0.783583\n",
      "[20]\ttraining's auc: 0.884263\tvalid_1's auc: 0.791556\n",
      "[30]\ttraining's auc: 0.894402\tvalid_1's auc: 0.79675\n",
      "[40]\ttraining's auc: 0.903083\tvalid_1's auc: 0.794611\n",
      "Early stopping, best iteration is:\n",
      "[31]\ttraining's auc: 0.895901\tvalid_1's auc: 0.798\n",
      "Training until validation scores don't improve for 10 rounds.\n",
      "[10]\ttraining's auc: 0.854855\tvalid_1's auc: 0.817778\n",
      "[20]\ttraining's auc: 0.873489\tvalid_1's auc: 0.829694\n",
      "Early stopping, best iteration is:\n",
      "[16]\ttraining's auc: 0.864045\tvalid_1's auc: 0.835583\n"
     ]
    }
   ],
   "source": [
    "from sklearn.model_selection import StratifiedKFold\n",
    "\n",
    "\n",
    "y_preds = []\n",
    "models = []\n",
    "oof_train = np.zeros((len(X_train),))\n",
    "cv = StratifiedKFold(n_splits=5, shuffle=True, random_state=0)\n",
    "\n",
    "params = {\n",
    "    'num_leaves': 16,\n",
    "    'max_depth': 3,\n",
    "    \"feature_fraction\": 0.8,\n",
    "    'subsample_freq': 1,\n",
    "    \"bagging_fraction\": 0.7,\n",
    "    'min_data_in_leaf': 10,\n",
    "    'objective': 'binary',\n",
    "    'metric': 'auc',\n",
    "    'learning_rate': 0.1,\n",
    "    \"boosting\": \"gbdt\",\n",
    "    \"lambda_l1\": 0.4,\n",
    "    \"lambda_l2\": 0.4,\n",
    "    \"verbosity\": -1,\n",
    "    \"random_state\": 42\n",
    "}\n",
    "\n",
    "for fold_id, (train_index, valid_index) in enumerate(cv.split(X_train, y_train)):\n",
    "    X_tr = X_train.loc[train_index, :]\n",
    "    X_val = X_train.loc[valid_index, :]\n",
    "    y_tr = y_train[train_index]\n",
    "    y_val = y_train[valid_index]\n",
    "\n",
    "    lgb_train = lgb.Dataset(X_tr, y_tr)\n",
    "    lgb_eval = lgb.Dataset(X_val, y_val, reference=lgb_train)\n",
    "\n",
    "    model = lgb.train(params, lgb_train,\n",
    "                                   valid_sets=[lgb_train, lgb_eval],\n",
    "                                   verbose_eval=10,\n",
    "                                   num_boost_round=1000,\n",
    "                                   early_stopping_rounds=10)\n",
    "\n",
    "    oof_train[valid_index] = model.predict(X_val, num_iteration=model.best_iteration)\n",
    "    y_pred = model.predict(X_test, num_iteration=model.best_iteration)\n",
    "\n",
    "    y_preds.append(y_pred)\n",
    "    models.append(model)"
   ]
  },
  {
   "cell_type": "code",
   "execution_count": 10,
   "metadata": {},
   "outputs": [
    {
     "name": "stdout",
     "output_type": "stream",
     "text": [
      "[0.68114615 0.11208977 0.20489444 0.29404616 0.39365957 0.27202279\n",
      " 0.84491069 0.71528289 0.10042511 0.31588561]\n",
      "===CV scores===\n",
      "[0.8238384955752213, 0.8691924778761062, 0.8603429203539823, 0.798, 0.8355833333333333]\n",
      "0.8373914454277285\n"
     ]
    }
   ],
   "source": [
    "pd.DataFrame(oof_train).to_csv('oof_train_skfold.csv', index=False)\n",
    "print(oof_train[:10])\n",
    "\n",
    "scores = [\n",
    "    m.best_score['valid_1']['auc'] for m in models\n",
    "]\n",
    "score = sum(scores) / len(scores)\n",
    "print('===CV scores===')\n",
    "print(scores)\n",
    "print(score)"
   ]
  },
  {
   "cell_type": "code",
   "execution_count": 11,
   "metadata": {},
   "outputs": [
    {
     "data": {
      "text/plain": [
       "0.8023560209424084"
      ]
     },
     "execution_count": 11,
     "metadata": {},
     "output_type": "execute_result"
    }
   ],
   "source": [
    "from sklearn.metrics import accuracy_score\n",
    "\n",
    "\n",
    "y_pred_oof = (oof_train > 0.5).astype(int)\n",
    "accuracy_score(y_train, y_pred_oof)"
   ]
  },
  {
   "cell_type": "code",
   "execution_count": 12,
   "metadata": {},
   "outputs": [
    {
     "data": {
      "text/plain": [
       "array([0, 0, 0, 0, 0, 0, 1, 0, 0, 0])"
      ]
     },
     "execution_count": 12,
     "metadata": {},
     "output_type": "execute_result"
    }
   ],
   "source": [
    "y_sub = sum(y_preds) / len(y_preds)\n",
    "y_sub = (y_sub > 0.75).astype(int)\n",
    "y_sub[:10]"
   ]
  },
  {
   "cell_type": "code",
   "execution_count": 13,
   "metadata": {},
   "outputs": [
    {
     "data": {
      "text/plain": [
       "<matplotlib.axes._subplots.AxesSubplot at 0x7fdf423a9390>"
      ]
     },
     "execution_count": 13,
     "metadata": {},
     "output_type": "execute_result"
    },
    {
     "data": {
      "image/png": "[encoded data removed]",
      "text/plain": [
       "<Figure size 432x288 with 1 Axes>"
      ]
     },
     "metadata": {},
     "output_type": "display_data"
    }
   ],
   "source": [
    "pd.Series(y_sub).hist()"
   ]
  },
  {
   "cell_type": "code",
   "execution_count": 14,
   "metadata": {},
   "outputs": [],
   "source": [
    "pd.Series(y_sub).to_csv('test_prediction.csv', index=False, header=None)"
   ]
  },
  {
   "cell_type": "code",
   "execution_count": null,
   "metadata": {},
   "outputs": [],
   "source": []
  }
 ],
 "metadata": {
  "kernelspec": {
   "display_name": "Python 3",
   "language": "python",
   "name": "python3"
  },
  "language_info": {
   "codemirror_mode": {
    "name": "ipython",
    "version": 3
   },
   "file_extension": ".py",
   "mimetype": "text/x-python",
   "name": "python",
   "nbconvert_exporter": "python",
   "pygments_lexer": "ipython3",
   "version": "3.6.6"
  }
 },
 "nbformat": 4,
 "nbformat_minor": 2
}
